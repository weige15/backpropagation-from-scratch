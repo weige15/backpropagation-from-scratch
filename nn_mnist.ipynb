{
 "cells": [
  {
   "cell_type": "code",
   "execution_count": 1,
   "id": "a839a5de-94ac-46ac-bfbd-9f526a3c05c8",
   "metadata": {
    "scrolled": true
   },
   "outputs": [
    {
     "name": "stdout",
     "output_type": "stream",
     "text": [
      "[INFO] loading MNIST (sample) dataset...\n",
      "[INFO] samples: 1797, dim: 64\n",
      "[INFO] training network...\n",
      "[INFO] NeuralNetwork: 64-32-16-10\n",
      "[INFO] epoch=1, loss=605.0888471\n",
      "[INFO] epoch=100, loss=6.7824465\n",
      "[INFO] epoch=200, loss=2.5541157\n",
      "[INFO] epoch=300, loss=1.9931933\n",
      "[INFO] epoch=400, loss=1.3813137\n",
      "[INFO] epoch=500, loss=0.9087222\n",
      "[INFO] epoch=600, loss=0.7226877\n",
      "[INFO] epoch=700, loss=0.2215744\n",
      "[INFO] epoch=800, loss=0.1676359\n",
      "[INFO] epoch=900, loss=0.1377962\n",
      "[INFO] epoch=1000, loss=0.1175171\n",
      "[INFO] evaluating network...\n",
      "              precision    recall  f1-score   support\n",
      "\n",
      "           0       1.00      1.00      1.00        39\n",
      "           1       0.97      1.00      0.98        60\n",
      "           2       0.96      0.98      0.97        47\n",
      "           3       1.00      0.94      0.97        52\n",
      "           4       0.97      1.00      0.98        31\n",
      "           5       0.93      1.00      0.96        50\n",
      "           6       1.00      0.98      0.99        47\n",
      "           7       1.00      0.97      0.99        39\n",
      "           8       0.95      0.95      0.95        44\n",
      "           9       1.00      0.93      0.96        41\n",
      "\n",
      "    accuracy                           0.98       450\n",
      "   macro avg       0.98      0.98      0.98       450\n",
      "weighted avg       0.98      0.98      0.98       450\n",
      "\n"
     ]
    }
   ],
   "source": [
    "from simple_nn.nn import NeuralNetwork\n",
    "from sklearn.preprocessing import LabelBinarizer\n",
    "from sklearn.model_selection import train_test_split\n",
    "from sklearn.metrics import classification_report\n",
    "from sklearn import datasets\n",
    "\n",
    "# load the MNIST dataset\n",
    "print(\"[INFO] loading MNIST (sample) dataset...\")\n",
    "digits = datasets.load_digits()\n",
    "data = digits.data.astype(\"float\")\n",
    "data = (data - data.min()) / (data.max() - data.min())\n",
    "print(\"[INFO] samples: {}, dim: {}\".format(data.shape[0], data.shape[1]))\n",
    "\n",
    "# split the data\n",
    "(trainX, testX, trainY, testY) = train_test_split(data, digits.target, test_size=0.25)\n",
    "trainY = LabelBinarizer().fit_transform(trainY)\n",
    "testY = LabelBinarizer().fit_transform(testY)\n",
    "\n",
    "# train the network\n",
    "print(\"[INFO] training network...\")\n",
    "nn = NeuralNetwork([trainX.shape[1], 32, 16, 10])\n",
    "print(\"[INFO] {}\".format(nn))\n",
    "nn.fit(trainX, trainY, epochs=1000)\n",
    "\n",
    "# evaluate the network\n",
    "print(\"[INFO] evaluating network...\")\n",
    "predictions = nn.predict(testX)\n",
    "predictions = predictions.argmax(axis=1)\n",
    "print(classification_report(testY.argmax(axis=1), predictions))\n"
   ]
  },
  {
   "cell_type": "code",
   "execution_count": null,
   "id": "ae919942-a0e2-4bd2-a4fb-08ed482518aa",
   "metadata": {},
   "outputs": [],
   "source": []
  }
 ],
 "metadata": {
  "kernelspec": {
   "display_name": "Python 3 (ipykernel)",
   "language": "python",
   "name": "python3"
  },
  "language_info": {
   "codemirror_mode": {
    "name": "ipython",
    "version": 3
   },
   "file_extension": ".py",
   "mimetype": "text/x-python",
   "name": "python",
   "nbconvert_exporter": "python",
   "pygments_lexer": "ipython3",
   "version": "3.10.12"
  }
 },
 "nbformat": 4,
 "nbformat_minor": 5
}
